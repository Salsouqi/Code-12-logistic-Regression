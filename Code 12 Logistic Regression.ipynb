{
 "cells": [
  {
   "cell_type": "code",
   "execution_count": 4,
   "id": "8fa7ddb6",
   "metadata": {},
   "outputs": [],
   "source": [
    "import pandas as pd\n",
    "import numpy as np\n",
    "import os \n",
    "import matplotlib as plt\n",
    "from matplotlib.pyplot import boxplot\n",
    "from sklearn.linear_model import  LogisticRegression"
   ]
  },
  {
   "cell_type": "code",
   "execution_count": 5,
   "id": "5711a137",
   "metadata": {},
   "outputs": [
    {
     "name": "stdout",
     "output_type": "stream",
     "text": [
      "C:\\Users\\owner\n"
     ]
    }
   ],
   "source": [
    "current_directory = os.getcwd()\n",
    "print(current_directory)"
   ]
  },
  {
   "cell_type": "code",
   "execution_count": 6,
   "id": "b7c4f7e3",
   "metadata": {},
   "outputs": [],
   "source": [
    "filepath = 'Week14assignment.txt'\n",
    "df = pd.read_csv(filepath)"
   ]
  },
  {
   "cell_type": "code",
   "execution_count": 7,
   "id": "e49e4772",
   "metadata": {},
   "outputs": [
    {
     "name": "stdout",
     "output_type": "stream",
     "text": [
      "Index(['PatientID', ' Readmission', ' StaffSatisfaction',\n",
      "       ' CleanlinessSatisfaction', ' FoodSatisfaction', ' ComfortSatisfaction',\n",
      "       ' CommunicationSatisfaction'],\n",
      "      dtype='object')\n"
     ]
    }
   ],
   "source": [
    "print(df.columns)"
   ]
  },
  {
   "cell_type": "code",
   "execution_count": 10,
   "id": "327d4ceb",
   "metadata": {},
   "outputs": [],
   "source": [
    "#Calculating statistics\n",
    "num_readmitted = np.sum(df[' Readmission'])\n",
    "satisfaction_staff = np.mean(df[' StaffSatisfaction'])\n",
    "satisfaction_cleanliness = np.mean(df[' CleanlinessSatisfaction'])\n",
    "satisfaction_food = np.mean(df[' FoodSatisfaction'])\n",
    "satisfaction_comfort = np.mean(df[ ' ComfortSatisfaction'])\n",
    "satisfaction_communication = np.mean(df[ ' CommunicationSatisfaction'])"
   ]
  },
  {
   "cell_type": "code",
   "execution_count": 11,
   "id": "18a0e070",
   "metadata": {},
   "outputs": [
    {
     "name": "stdout",
     "output_type": "stream",
     "text": [
      "Number of patients readmittted: 15. \n",
      "Average staff satisfaction: 3.5.\n",
      "Average clenliness satisfaction: 3.6.\n",
      "Average food satisfaction: 3.533333333333333.\n",
      "Average comfort satisfaction: 3.7333333333333334.\n",
      "Average communication satisfaction: 3.7.\n"
     ]
    }
   ],
   "source": [
    "# Printing out descriptive statistics\n",
    "print(f\"Number of patients readmittted: {num_readmitted}. \")\n",
    "print(f\"Average staff satisfaction: {satisfaction_staff}.\" )\n",
    "print(f\"Average clenliness satisfaction: {satisfaction_cleanliness}.\")\n",
    "print(f\"Average food satisfaction: {satisfaction_food}.\")\n",
    "print(f\"Average comfort satisfaction: {satisfaction_comfort}.\")\n",
    "print(f\"Average communication satisfaction: {satisfaction_communication}.\")"
   ]
  },
  {
   "cell_type": "code",
   "execution_count": 12,
   "id": "e885c545",
   "metadata": {},
   "outputs": [
    {
     "data": {
      "image/png": "[encoded data removed]",
      "text/plain": [
       "<Figure size 640x480 with 1 Axes>"
      ]
     },
     "metadata": {},
     "output_type": "display_data"
    }
   ],
   "source": [
    "#Calculate overall satisfaction\n",
    "df['OverallSatisfaction']=df[[' StaffSatisfaction', ' CleanlinessSatisfaction', ' FoodSatisfaction', ' ComfortSatisfaction', ' CommunicationSatisfaction']].mean(axis=1)\n",
    "\n",
    "boxplot = df.boxplot(['OverallSatisfaction'], showfliers=True)"
   ]
  },
  {
   "cell_type": "code",
   "execution_count": 59,
   "id": "91f93ae9",
   "metadata": {},
   "outputs": [],
   "source": [
    "# Logistic regression\n",
    "X = df['OverallSatisfaction'].values.reshape(-1,1)\n",
    "Y = df[' Readmission']\n",
    "\n",
    "log_reg = LogisticRegression().fit(X,Y)"
   ]
  },
  {
   "cell_type": "code",
   "execution_count": 60,
   "id": "1a1db02d",
   "metadata": {},
   "outputs": [
    {
     "name": "stdout",
     "output_type": "stream",
     "text": [
      "Logistic regression results indicated a: \n",
      "Weak correlation\n",
      "The correlation efficient was 0.3362278182798735 \n"
     ]
    }
   ],
   "source": [
    "# Correlation results\n",
    "correlation_coefficient = log_reg.coef_[0][0]\n",
    "\n",
    "if correlation_coefficient > 0:\n",
    "    print(\"Logistic regression results indicated a: \")\n",
    "    if correlation_coefficient > 0.5:\n",
    "        print(\"Moderate correlation\")\n",
    "    elif correlation_coefficient > 0.7:\n",
    "        print(\"Strong correlation\")\n",
    "    else:\n",
    "        print(\"Weak correlation\")\n",
    "else:\n",
    "    print(\"Logistic regression results indicated: \")\n",
    "    print(\"No correlation\")\n",
    "    \n",
    "print(f\"The correlation efficient was {correlation_coefficient} \")"
   ]
  },
  {
   "cell_type": "code",
   "execution_count": 73,
   "id": "9cbc4d57",
   "metadata": {
    "scrolled": true
   },
   "outputs": [
    {
     "data": {
      "text/plain": [
       "[<matplotlib.lines.Line2D at 0x1d897874dd0>]"
      ]
     },
     "execution_count": 73,
     "metadata": {},
     "output_type": "execute_result"
    }
   ],
   "source": [
    "#plot the data\n",
    "plt.pyplot.scatter(X,Y)\n",
    "plt.pyplot.xlabel('Overall Satisfaction scores')\n",
    "plt.pyplot.title('Logistic Regression - Overall Satisfaction vs Readmission')\n",
    "plt.pyplot.plot(X, log_reg.predict(X), color = 'blue')"
   ]
  }
 ],
 "metadata": {
  "kernelspec": {
   "display_name": "Python 3 (ipykernel)",
   "language": "python",
   "name": "python3"
  },
  "language_info": {
   "codemirror_mode": {
    "name": "ipython",
    "version": 3
   },
   "file_extension": ".py",
   "mimetype": "text/x-python",
   "name": "python",
   "nbconvert_exporter": "python",
   "pygments_lexer": "ipython3",
   "version": "3.11.4"
  }
 },
 "nbformat": 4,
 "nbformat_minor": 5
}
